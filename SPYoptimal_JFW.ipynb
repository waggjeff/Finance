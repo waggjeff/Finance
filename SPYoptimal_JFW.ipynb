{
 "cells": [
  {
   "cell_type": "markdown",
   "id": "3d1abcd6",
   "metadata": {},
   "source": [
    "## Optimal Investment Strategy for the S&P500 ?\n",
    "\n",
    "Some have hypothesized that one can beat the average returns of the S&P500 by investing only at the beginning of the month, when companies are depositing their employees pension funds. We will test this by using historical data and calculating the returns one would achieve by buying at the opening of the first day of each month and selling by the 7th."
   ]
  },
  {
   "cell_type": "code",
   "execution_count": 1,
   "id": "e65a7324",
   "metadata": {},
   "outputs": [],
   "source": [
    "import pandas as pd\n",
    "import datetime as dt\n",
    "import matplotlib.pyplot as plt"
   ]
  },
  {
   "cell_type": "code",
   "execution_count": 3,
   "id": "f5415320",
   "metadata": {},
   "outputs": [
    {
     "data": {
      "text/html": [
       "<div>\n",
       "<style scoped>\n",
       "    .dataframe tbody tr th:only-of-type {\n",
       "        vertical-align: middle;\n",
       "    }\n",
       "\n",
       "    .dataframe tbody tr th {\n",
       "        vertical-align: top;\n",
       "    }\n",
       "\n",
       "    .dataframe thead th {\n",
       "        text-align: right;\n",
       "    }\n",
       "</style>\n",
       "<table border=\"1\" class=\"dataframe\">\n",
       "  <thead>\n",
       "    <tr style=\"text-align: right;\">\n",
       "      <th></th>\n",
       "      <th>Date</th>\n",
       "      <th>Open</th>\n",
       "      <th>High</th>\n",
       "      <th>Low</th>\n",
       "      <th>Close</th>\n",
       "      <th>Adj Close</th>\n",
       "      <th>Volume</th>\n",
       "    </tr>\n",
       "  </thead>\n",
       "  <tbody>\n",
       "    <tr>\n",
       "      <th>0</th>\n",
       "      <td>1993-02-01</td>\n",
       "      <td>43.96875</td>\n",
       "      <td>44.25000</td>\n",
       "      <td>43.96875</td>\n",
       "      <td>44.25000</td>\n",
       "      <td>25.397583</td>\n",
       "      <td>480500</td>\n",
       "    </tr>\n",
       "    <tr>\n",
       "      <th>1</th>\n",
       "      <td>1993-02-02</td>\n",
       "      <td>44.21875</td>\n",
       "      <td>44.37500</td>\n",
       "      <td>44.12500</td>\n",
       "      <td>44.34375</td>\n",
       "      <td>25.451406</td>\n",
       "      <td>201300</td>\n",
       "    </tr>\n",
       "    <tr>\n",
       "      <th>2</th>\n",
       "      <td>1993-02-03</td>\n",
       "      <td>44.40625</td>\n",
       "      <td>44.84375</td>\n",
       "      <td>44.37500</td>\n",
       "      <td>44.81250</td>\n",
       "      <td>25.720430</td>\n",
       "      <td>529400</td>\n",
       "    </tr>\n",
       "    <tr>\n",
       "      <th>3</th>\n",
       "      <td>1993-02-04</td>\n",
       "      <td>44.96875</td>\n",
       "      <td>45.09375</td>\n",
       "      <td>44.46875</td>\n",
       "      <td>45.00000</td>\n",
       "      <td>25.828054</td>\n",
       "      <td>531500</td>\n",
       "    </tr>\n",
       "    <tr>\n",
       "      <th>4</th>\n",
       "      <td>1993-02-05</td>\n",
       "      <td>44.96875</td>\n",
       "      <td>45.06250</td>\n",
       "      <td>44.71875</td>\n",
       "      <td>44.96875</td>\n",
       "      <td>25.810110</td>\n",
       "      <td>492100</td>\n",
       "    </tr>\n",
       "  </tbody>\n",
       "</table>\n",
       "</div>"
      ],
      "text/plain": [
       "        Date      Open      High       Low     Close  Adj Close  Volume\n",
       "0 1993-02-01  43.96875  44.25000  43.96875  44.25000  25.397583  480500\n",
       "1 1993-02-02  44.21875  44.37500  44.12500  44.34375  25.451406  201300\n",
       "2 1993-02-03  44.40625  44.84375  44.37500  44.81250  25.720430  529400\n",
       "3 1993-02-04  44.96875  45.09375  44.46875  45.00000  25.828054  531500\n",
       "4 1993-02-05  44.96875  45.06250  44.71875  44.96875  25.810110  492100"
      ]
     },
     "execution_count": 3,
     "metadata": {},
     "output_type": "execute_result"
    }
   ],
   "source": [
    "# first, read in the data: https://finance.yahoo.com/quote/SPY/history?p=SPY\n",
    "spydf = pd.read_csv(\"SPY.csv\")\n",
    "spydf.Date = pd.to_datetime(spydf.Date)\n",
    "spydf.head()"
   ]
  },
  {
   "cell_type": "code",
   "execution_count": 6,
   "id": "9f537b20",
   "metadata": {},
   "outputs": [],
   "source": [
    "# The main loop\n",
    "gains = [] # This list will store the percentage gains over first week of each month\n",
    "\n",
    "buy = 0\n",
    "sell = 0\n",
    "for ind in spydf.index:\n",
    "    if buy == 0 and spydf.Date.dt.day[ind] == 1:\n",
    "        buy = spydf.Open[ind]\n",
    "        sell = 0\n",
    "    if buy == 0 and spydf.Date.dt.day[ind] == 2:\n",
    "        buy = spydf.Open[ind]\n",
    "        sell = 0\n",
    "    if buy == 0 and spydf.Date.dt.day[ind] == 3:\n",
    "        buy = spydf.Open[ind]\n",
    "        sell = 0       \n",
    "    if buy == 0 and spydf.Date.dt.day[ind] == 4:\n",
    "        buy = spydf.Open[ind]\n",
    "        sell = 0\n",
    "        \n",
    "    if sell == 0 and spydf.Date.dt.day[ind] == 7:\n",
    "        sell = spydf.Close[ind]\n",
    "        gains.append((sell - buy)/buy)\n",
    "        buy = 0\n",
    "    if sell == 0 and spydf.Date.dt.day[ind] == 8:\n",
    "        sell = spydf.Close[ind]\n",
    "        gains.append((sell - buy)/buy)\n",
    "        buy = 0       \n",
    "    if sell == 0 and spydf.Date.dt.day[ind] == 9:\n",
    "        sell = spydf.Close[ind]\n",
    "        gains.append((sell - buy)/buy)\n",
    "        buy = 0"
   ]
  },
  {
   "cell_type": "code",
   "execution_count": 9,
   "id": "e8b04315",
   "metadata": {},
   "outputs": [
    {
     "name": "stdout",
     "output_type": "stream",
     "text": [
      "If one were to only invest at the beginning of each month, they would have made: % 246.6670569864271\n"
     ]
    }
   ],
   "source": [
    "gain = 1.\n",
    "\n",
    "for i in gains:\n",
    "    gain = gain*(1. + i)\n",
    "    \n",
    "print(\"If one were to only invest at the beginning of each month, they would have made: %\",100.*gain)"
   ]
  },
  {
   "cell_type": "code",
   "execution_count": 8,
   "id": "836b4b12",
   "metadata": {},
   "outputs": [
    {
     "data": {
      "image/png": "[encoded data removed]",
      "text/plain": [
       "<Figure size 432x288 with 1 Axes>"
      ]
     },
     "metadata": {
      "needs_background": "light"
     },
     "output_type": "display_data"
    },
    {
     "name": "stdout",
     "output_type": "stream",
     "text": [
      "Minimum gain: % -14.20054613881218 , maximum gain % 7.377342554427282\n"
     ]
    }
   ],
   "source": [
    "plt.hist(gains, bins=20)\n",
    "plt.show()\n",
    "\n",
    "print(\"Minimum gain: %\",100.*min(gains),\", maximum gain %\",100.*max(gains))"
   ]
  },
  {
   "cell_type": "code",
   "execution_count": 11,
   "id": "38f21b51",
   "metadata": {},
   "outputs": [
    {
     "name": "stdout",
     "output_type": "stream",
     "text": [
      "If one had invested for the full duration, their returns would be % 800.3667491115848\n"
     ]
    }
   ],
   "source": [
    "diff = (spydf.Close.iloc[-1] - spydf.Open.iloc[0])/spydf.Open.iloc[0]\n",
    "\n",
    "print(\"If one had invested for the full duration, their returns would be %\",100.*diff)"
   ]
  },
  {
   "cell_type": "code",
   "execution_count": null,
   "id": "28f954d4",
   "metadata": {},
   "outputs": [],
   "source": []
  }
 ],
 "metadata": {
  "kernelspec": {
   "display_name": "Python 3",
   "language": "python",
   "name": "python3"
  },
  "language_info": {
   "codemirror_mode": {
    "name": "ipython",
    "version": 3
   },
   "file_extension": ".py",
   "mimetype": "text/x-python",
   "name": "python",
   "nbconvert_exporter": "python",
   "pygments_lexer": "ipython3",
   "version": "3.8.8"
  }
 },
 "nbformat": 4,
 "nbformat_minor": 5
}

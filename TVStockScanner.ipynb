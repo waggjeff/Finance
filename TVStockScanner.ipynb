{
 "cells": [
  {
   "cell_type": "markdown",
   "id": "9ce20a9a",
   "metadata": {},
   "source": [
    "## Stock Scanner\n",
    "\n",
    "This notebook uses the Trading View API to scan for stocks that could be in play. We use Stochastic RSI to assess whether the fast indicator has risen past the slow indicator to reflect a shift in momentum. If both this shift occurs on both daily and weekly timescales, we say that the stock might be in play\n",
    "\n",
    "Uses the Trading View TA package: https://python-tradingview-ta.readthedocs.io/en/latest/overview.html\n",
    "\n",
    "pip install tradingview-ta"
   ]
  },
  {
   "cell_type": "code",
   "execution_count": 127,
   "id": "f47e8511",
   "metadata": {},
   "outputs": [],
   "source": [
    "from tradingview_ta import *\n",
    "import pandas as pd\n",
    "from os.path import exists\n",
    "import sys"
   ]
  },
  {
   "cell_type": "code",
   "execution_count": 128,
   "id": "b0272c91",
   "metadata": {},
   "outputs": [],
   "source": [
    "# retrieve a list of all of the symbols in the NYSE\n",
    "filename = 'nyse-listed_csv.csv'\n",
    "\n",
    "if exists(filename) == False:\n",
    "    !wget https://pkgstore.datahub.io/core/nyse-other-listings/nyse-listed_csv/data/3c88fab8ec158c3cd55145243fe5fcdf/nyse-listed_csv.csv"
   ]
  },
  {
   "cell_type": "code",
   "execution_count": 129,
   "id": "94c525a4",
   "metadata": {},
   "outputs": [
    {
     "name": "stdout",
     "output_type": "stream",
     "text": [
      "(3298, 2)\n"
     ]
    }
   ],
   "source": [
    "# create a pandas df from the list of files  \n",
    "nyse_df = pd.read_csv(filename)\n",
    "print(nyse_df.shape)"
   ]
  },
  {
   "cell_type": "code",
   "execution_count": 130,
   "id": "ddb0ffb6",
   "metadata": {},
   "outputs": [
    {
     "name": "stdout",
     "output_type": "stream",
     "text": [
      "(7957, 11)\n"
     ]
    }
   ],
   "source": [
    "# retrieve a list of all of the symbols in the NASDAQ\n",
    "filename = 'nasdaq_screener_1677553848191.csv'\n",
    "\n",
    "nasdaq_df = pd.read_csv(filename)\n",
    "print(nasdaq_df.shape)"
   ]
  },
  {
   "cell_type": "code",
   "execution_count": 131,
   "id": "abeef3a7",
   "metadata": {},
   "outputs": [],
   "source": [
    "testsyms = ['TSLA','AAPL','MSFT','JGSSTFSD']"
   ]
  },
  {
   "cell_type": "code",
   "execution_count": 132,
   "id": "3183db1a",
   "metadata": {
    "scrolled": true
   },
   "outputs": [],
   "source": [
    "# just load all of the stockes into the list \n",
    "TVsyms_nyse = list(nyse_df[\"ACT Symbol\"]) \n",
    "TVsyms_nas = list(nasdaq_df[\"Symbol\"])"
   ]
  },
  {
   "cell_type": "code",
   "execution_count": null,
   "id": "197fc622",
   "metadata": {},
   "outputs": [
    {
     "name": "stdout",
     "output_type": "stream",
     "text": [
      "Reading from NYSE:\n"
     ]
    }
   ],
   "source": [
    "%%time\n",
    "\n",
    "# look for stocks matching predefined criteria on daily bars\n",
    "RSIlow = 30.\n",
    "RSIhi = 80.\n",
    "inplay_nyse = []\n",
    "inplay_nas = []\n",
    "\n",
    "print(\"Reading from NYSE:\")\n",
    "for sym in TVsyms_nyse:\n",
    "    \n",
    "    try: \n",
    "        handle = TA_Handler(\n",
    "                symbol=sym,\n",
    "                screener=\"america\",\n",
    "                exchange=\"NYSE\",\n",
    "                interval=Interval.INTERVAL_1_DAY\n",
    "                )\n",
    "        anal = handle.get_analysis()\n",
    "        \n",
    "        # make sure that it is not overbought\n",
    "        if anal.indicators[\"RSI\"] <= RSIhi:\n",
    "            # fast momentum is Stoch.K, and slow momentum is Stoch.D\n",
    "            if anal.indicators['Stoch.K'] > anal.indicators['Stoch.D']:\n",
    "                inplay_nyse.append(sym)\n",
    "    except Exception:\n",
    "        pass\n",
    "\n",
    "print(\"Reading from NASDAQ:\")\n",
    "for sym in TVsyms_nas:\n",
    "    \n",
    "    try: \n",
    "        handle = TA_Handler(\n",
    "                symbol=sym,\n",
    "                screener=\"america\",\n",
    "                exchange=\"masdaq\",\n",
    "                interval=Interval.INTERVAL_1_DAY\n",
    "                )\n",
    "        anal = handle.get_analysis()\n",
    "        \n",
    "        # make sure that it is not overbought\n",
    "        if anal.indicators[\"RSI\"] <= RSIhi:\n",
    "            # fast is Stoch.K, and slow is Stoch.D\n",
    "            #print(sym,anal.indicators[\"RSI\"],\\\n",
    "            #      anal.indicators['Stoch.K'],anal.indicators['Stoch.D'])\n",
    "            if anal.indicators['Stoch.K'] > anal.indicators['Stoch.D']:\n",
    "                inplay_nas.append(sym)\n",
    "    except Exception:\n",
    "        pass\n",
    "    "
   ]
  },
  {
   "cell_type": "code",
   "execution_count": null,
   "id": "c5cac961",
   "metadata": {},
   "outputs": [],
   "source": [
    "print(len(inplay_nyse + inplay_nas))"
   ]
  },
  {
   "cell_type": "code",
   "execution_count": null,
   "id": "6c284117",
   "metadata": {},
   "outputs": [],
   "source": [
    "%%time \n",
    "\n",
    "# now look for stocks matching predefined criteria on weekly bars\n",
    "inplaywkly_nyse = []\n",
    "inplaywkly_nas = []\n",
    "volwkly_nyse = []\n",
    "volwkly_nas = []\n",
    "price_nyse = []\n",
    "price_nas = []\n",
    "stochk_nyse = []\n",
    "stochk_nas = []\n",
    "stochd_nyse = []\n",
    "stochd_nas = []\n",
    "rsi_nyse = []\n",
    "rsi_nas = []\n",
    "\n",
    "\n",
    "print(\"Checking weekly NYSE data:\")\n",
    "for sym in inplay_nyse:\n",
    "    \n",
    "    try: \n",
    "        handle = TA_Handler(\n",
    "                symbol=sym,\n",
    "                screener=\"america\",\n",
    "                exchange=\"NYSE\",\n",
    "                interval=Interval.INTERVAL_1_WEEK\n",
    "                )\n",
    "        anal = handle.get_analysis()\n",
    "        \n",
    "        if anal.indicators[\"RSI\"] <= RSIhi:\n",
    "            # fast is Stoch.K, and slow is Stoch.D\n",
    "            #print(sym,anal.indicators[\"RSI\"],\\\n",
    "            #      anal.indicators['Stoch.K'],anal.indicators['Stoch.D'])\n",
    "            if anal.indicators['Stoch.K'] > anal.indicators['Stoch.D']:\n",
    "                inplaywkly_nyse.append(sym)\n",
    "                volwkly_nyse.append(anal.indicators['volume'])\n",
    "                price_nyse.append(anal.indicators['close'])\n",
    "                stochk_nyse.append(anal.indicators['Stoch.K'])\n",
    "                stochd_nyse.append(anal.indicators['Stoch.D'])\n",
    "                rsi_nyse.append(anal.indicators['RSI'])\n",
    "    except Exception:\n",
    "        pass\n",
    "\n",
    "print(\"Checking weekly NASDAQ data:\")\n",
    "for sym in inplay_nas:\n",
    "    \n",
    "    try: \n",
    "        handle = TA_Handler(\n",
    "                symbol=sym,\n",
    "                screener=\"america\",\n",
    "                exchange=\"nasdaq\",\n",
    "                interval=Interval.INTERVAL_1_WEEK\n",
    "                )\n",
    "        anal = handle.get_analysis()\n",
    "        \n",
    "        if anal.indicators[\"RSI\"] <= RSIhi:\n",
    "            # fast momentum is Stoch.K, and slow momentum is Stoch.D\n",
    "            if anal.indicators['Stoch.K'] > anal.indicators['Stoch.D']:\n",
    "                inplaywkly_nas.append(sym)\n",
    "                volwkly_nas.append(anal.indicators['volume'])\n",
    "                price_nas.append(anal.indicators['close'])\n",
    "                stochk_nas.append(anal.indicators['Stoch.K'])\n",
    "                stochd_nas.append(anal.indicators['Stoch.D'])\n",
    "                rsi_nas.append(anal.indicators['RSI'])\n",
    "    except Exception:\n",
    "        pass\n",
    "\n"
   ]
  },
  {
   "cell_type": "code",
   "execution_count": null,
   "id": "eea8458c",
   "metadata": {},
   "outputs": [],
   "source": [
    "inplaywkly = inplaywkly_nyse + inplaywkly_nas\n",
    "volwkly = volwkly_nyse + volwkly_nas\n",
    "price = price_nyse + price_nas\n",
    "stochk = stochk_nyse + stochk_nas\n",
    "stochd = stochd_nyse + stochd_nas\n",
    "rsi = rsi_nyse + rsi_nas\n",
    "\n",
    "df = pd.DataFrame(\n",
    "    {'SYM': inplaywkly,\n",
    "     'VOL': volwkly,\n",
    "     'PRICE': price,\n",
    "     'StochK': stochk,\n",
    "     'StochD': stochd,\n",
    "     'RSI': rsi\n",
    "    })\n"
   ]
  },
  {
   "cell_type": "code",
   "execution_count": null,
   "id": "fd0793d6",
   "metadata": {
    "scrolled": false
   },
   "outputs": [],
   "source": [
    "lowrsi = df[(df[\"RSI\"] < 100.) & (df[\"VOL\"] > 100000.) & (df['PRICE'] < 500.) & (df['PRICE'] > 2.)]\n",
    "pd.set_option('display.max_rows', None)\n",
    "print(lowrsi.sort_values(by=['PRICE', 'VOL'], ascending=False))"
   ]
  },
  {
   "cell_type": "code",
   "execution_count": null,
   "id": "bf1af008",
   "metadata": {},
   "outputs": [],
   "source": []
  }
 ],
 "metadata": {
  "kernelspec": {
   "display_name": "Python 3",
   "language": "python",
   "name": "python3"
  },
  "language_info": {
   "codemirror_mode": {
    "name": "ipython",
    "version": 3
   },
   "file_extension": ".py",
   "mimetype": "text/x-python",
   "name": "python",
   "nbconvert_exporter": "python",
   "pygments_lexer": "ipython3",
   "version": "3.8.8"
  }
 },
 "nbformat": 4,
 "nbformat_minor": 5
}
